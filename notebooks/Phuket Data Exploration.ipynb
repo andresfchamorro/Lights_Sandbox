{
 "cells": [
  {
   "cell_type": "code",
   "execution_count": 1,
   "id": "everyday-mills",
   "metadata": {},
   "outputs": [],
   "source": [
    "import geemap\n",
    "from geemap import colormaps\n",
    "from geemap import foliumap\n",
    "import ee\n",
    "import sys\n",
    "sys.path.append('C:/Users/wb514197/Repos/GEE_Zonal/src')\n",
    "from gee_tools import Catalog, ZonalStats\n",
    "import pandas as pd\n",
    "import os\n",
    "import glob\n",
    "import seaborn as sns\n",
    "from datetime import datetime\n",
    "from dotenv import load_dotenv, find_dotenv\n",
    "import datapane as dp\n",
    "from matplotlib import pyplot as plt"
   ]
  },
  {
   "cell_type": "code",
   "execution_count": 2,
   "id": "digital-myrtle",
   "metadata": {},
   "outputs": [],
   "source": [
    "ee.Initialize()"
   ]
  },
  {
   "cell_type": "code",
   "execution_count": 16,
   "id": "crude-sender",
   "metadata": {},
   "outputs": [],
   "source": [
    "center_lat = 7.993471334318632\n",
    "center_lon = 98.33515214624994\n",
    "zoomlevel=10\n",
    "\n",
    "# initialize our map\n",
    "Map = geemap.Map(center=[center_lat,center_lon], zoom=zoomlevel)"
   ]
  },
  {
   "cell_type": "code",
   "execution_count": 17,
   "id": "accomplished-frequency",
   "metadata": {
    "scrolled": false
   },
   "outputs": [
    {
     "data": {
      "application/vnd.jupyter.widget-view+json": {
       "model_id": "d834fbb4907d41c596990571309a4a79",
       "version_major": 2,
       "version_minor": 0
      },
      "text/plain": [
       "Map(center=[7.993471334318632, 98.33515214624994], controls=(WidgetControl(options=['position', 'transparent_b…"
      ]
     },
     "metadata": {},
     "output_type": "display_data"
    }
   ],
   "source": [
    "Map.addLayerControl()\n",
    "Map"
   ]
  },
  {
   "cell_type": "code",
   "execution_count": 7,
   "id": "bridal-express",
   "metadata": {},
   "outputs": [],
   "source": [
    "# the first time I drew the bounding box to capture coordinates\n",
    "# aoi = ee.FeatureCollection(Map.draw_features)\n",
    "# aoi.getInfo()"
   ]
  },
  {
   "cell_type": "code",
   "execution_count": 5,
   "id": "supported-funds",
   "metadata": {},
   "outputs": [],
   "source": [
    "aoi = ee.FeatureCollection({'type': 'FeatureCollection',\n",
    " 'columns': {'system:index': 'String'},\n",
    " 'features': [{'type': 'Feature',\n",
    "   'geometry': {'geodesic': False,\n",
    "    'type': 'Polygon',\n",
    "    'coordinates': [[[98.117499, 7.657021],\n",
    "      [98.117499, 8.309809],\n",
    "      [98.528199, 8.309809],\n",
    "      [98.528199, 7.657021],\n",
    "      [98.117499, 7.657021]]]},\n",
    "   'id': '0',\n",
    "   'properties': {}}]})"
   ]
  },
  {
   "cell_type": "code",
   "execution_count": 6,
   "id": "attended-washington",
   "metadata": {},
   "outputs": [],
   "source": [
    "pal = colormaps.get_palette('viridis', 20)"
   ]
  },
  {
   "cell_type": "code",
   "execution_count": 7,
   "id": "systematic-mystery",
   "metadata": {},
   "outputs": [],
   "source": [
    "vis_params = {\n",
    "    'bands': ['avg_rad'], \n",
    "    'palette': pal, \n",
    "    'min': 0.0, \n",
    "    'max': 60.0, \n",
    "    'opacity': 1.0\n",
    "}\n",
    "# vis_params = {\"min\": 0,\n",
    "#               \"max\": 100,\n",
    "#               \"bands\": [\"B8\", \"B4\", \"B3\"]}"
   ]
  },
  {
   "cell_type": "code",
   "execution_count": 9,
   "id": "active-punishment",
   "metadata": {},
   "outputs": [],
   "source": [
    "viirs = ee.ImageCollection(\"NOAA/VIIRS/DNB/MONTHLY_V1/VCMSLCFG\").select('avg_rad').filterDate('2020-01-01', \"2021-06-01\")\n",
    "one = viirs.first().clip(aoi)\n",
    "one = one.mask(one)"
   ]
  },
  {
   "cell_type": "code",
   "execution_count": 10,
   "id": "opposite-judges",
   "metadata": {},
   "outputs": [],
   "source": [
    "Map.addLayer(one, vis_params, 'Viirs')"
   ]
  },
  {
   "cell_type": "code",
   "execution_count": 10,
   "id": "auburn-zealand",
   "metadata": {},
   "outputs": [],
   "source": [
    "# l = Map.find_layer('Viirs')\n",
    "# layers = Map.layers\n",
    "# layers[2].name"
   ]
  },
  {
   "cell_type": "code",
   "execution_count": 13,
   "id": "related-stanley",
   "metadata": {
    "scrolled": true
   },
   "outputs": [],
   "source": [
    "# to remove\n",
    "Map.remove_layer(Map.find_layer('Viirs'))"
   ]
  },
  {
   "cell_type": "code",
   "execution_count": 9,
   "id": "demographic-evanescence",
   "metadata": {
    "scrolled": true
   },
   "outputs": [
    {
     "data": {
      "application/vnd.jupyter.widget-view+json": {
       "model_id": "8dc622aff2cd4a99bb4bc7d63dae6cd0",
       "version_major": 2,
       "version_minor": 0
      },
      "text/plain": [
       "Map(center=[7.993471334318632, 98.33515214624994], controls=(WidgetControl(options=['position', 'transparent_b…"
      ]
     },
     "metadata": {},
     "output_type": "display_data"
    }
   ],
   "source": [
    "Map"
   ]
  },
  {
   "cell_type": "code",
   "execution_count": 53,
   "id": "signed-boutique",
   "metadata": {},
   "outputs": [],
   "source": [
    "zs = ZonalStats(\n",
    "    collection_id='NOAA/VIIRS/DNB/MONTHLY_V1/VCMSLCFG',\n",
    "    target_features=aoi,\n",
    "    statistic_type='sum',\n",
    "    output_name='',\n",
    "    scale=500,\n",
    "    min_threshold=0,\n",
    "    water_mask=False,\n",
    "    start_year=2018,\n",
    "    end_year=2022,\n",
    "    frequency='original',\n",
    "    temporal_stat=None,\n",
    "    band='avg_rad',\n",
    "    output_dir='',\n",
    ")"
   ]
  },
  {
   "cell_type": "code",
   "execution_count": 68,
   "id": "religious-sleeping",
   "metadata": {},
   "outputs": [],
   "source": [
    "res = zs.runZonalStats()"
   ]
  },
  {
   "cell_type": "code",
   "execution_count": 69,
   "id": "latter-tampa",
   "metadata": {},
   "outputs": [],
   "source": [
    "# geemap.ee_export_vector(res, \"test_res.csv\")"
   ]
  },
  {
   "cell_type": "code",
   "execution_count": 70,
   "id": "breathing-stationery",
   "metadata": {},
   "outputs": [],
   "source": [
    "res = res.getInfo()"
   ]
  },
  {
   "cell_type": "code",
   "execution_count": 71,
   "id": "cleared-concrete",
   "metadata": {},
   "outputs": [],
   "source": [
    "feats = res['features']\n",
    "cols = [list(f['properties'].keys()) for f in feats][0]\n",
    "# res['columns'].pop('system:index')\n",
    "# cols = list(res['columns'].keys())\n",
    "ids = [f['id'] for f in feats]\n",
    "values = [list(f['properties'].values()) for f in feats]"
   ]
  },
  {
   "cell_type": "code",
   "execution_count": 72,
   "id": "wired-walter",
   "metadata": {},
   "outputs": [],
   "source": [
    "df = pd.DataFrame(index=ids, columns=cols, data=values)"
   ]
  },
  {
   "cell_type": "code",
   "execution_count": 73,
   "id": "passive-melissa",
   "metadata": {},
   "outputs": [],
   "source": [
    "def rename_func(col):\n",
    "    p = col.split(\"_\")\n",
    "    new_name = \"rad_sum\"+\"__\"+p[0]\n",
    "    return new_name"
   ]
  },
  {
   "cell_type": "code",
   "execution_count": 74,
   "id": "revised-continuity",
   "metadata": {},
   "outputs": [],
   "source": [
    "df.rename(rename_func, axis=1, inplace=True)"
   ]
  },
  {
   "cell_type": "code",
   "execution_count": 75,
   "id": "conscious-enclosure",
   "metadata": {},
   "outputs": [
    {
     "data": {
      "text/html": [
       "<div>\n",
       "<style scoped>\n",
       "    .dataframe tbody tr th:only-of-type {\n",
       "        vertical-align: middle;\n",
       "    }\n",
       "\n",
       "    .dataframe tbody tr th {\n",
       "        vertical-align: top;\n",
       "    }\n",
       "\n",
       "    .dataframe thead th {\n",
       "        text-align: right;\n",
       "    }\n",
       "</style>\n",
       "<table border=\"1\" class=\"dataframe\">\n",
       "  <thead>\n",
       "    <tr style=\"text-align: right;\">\n",
       "      <th></th>\n",
       "      <th>rad_sum__20180101</th>\n",
       "      <th>rad_sum__20180201</th>\n",
       "      <th>rad_sum__20180301</th>\n",
       "      <th>rad_sum__20180401</th>\n",
       "      <th>rad_sum__20180501</th>\n",
       "      <th>rad_sum__20180601</th>\n",
       "      <th>rad_sum__20180701</th>\n",
       "      <th>rad_sum__20180801</th>\n",
       "      <th>rad_sum__20180901</th>\n",
       "      <th>rad_sum__20181001</th>\n",
       "      <th>...</th>\n",
       "      <th>rad_sum__20200701</th>\n",
       "      <th>rad_sum__20200801</th>\n",
       "      <th>rad_sum__20200901</th>\n",
       "      <th>rad_sum__20201001</th>\n",
       "      <th>rad_sum__20201101</th>\n",
       "      <th>rad_sum__20201201</th>\n",
       "      <th>rad_sum__20210101</th>\n",
       "      <th>rad_sum__20210201</th>\n",
       "      <th>rad_sum__20210301</th>\n",
       "      <th>rad_sum__20210501</th>\n",
       "    </tr>\n",
       "  </thead>\n",
       "  <tbody>\n",
       "    <tr>\n",
       "      <th>0</th>\n",
       "      <td>28130.781996</td>\n",
       "      <td>27184.385777</td>\n",
       "      <td>27483.034286</td>\n",
       "      <td>29311.177311</td>\n",
       "      <td>2805.793487</td>\n",
       "      <td>8173.382541</td>\n",
       "      <td>24591.406972</td>\n",
       "      <td>26336.7996</td>\n",
       "      <td>24976.751477</td>\n",
       "      <td>21914.102358</td>\n",
       "      <td>...</td>\n",
       "      <td>22042.146003</td>\n",
       "      <td>26066.274293</td>\n",
       "      <td>10270.127467</td>\n",
       "      <td>33924.938353</td>\n",
       "      <td>12551.1328</td>\n",
       "      <td>30809.919995</td>\n",
       "      <td>31659.853562</td>\n",
       "      <td>31586.14736</td>\n",
       "      <td>32451.749174</td>\n",
       "      <td>21881.611714</td>\n",
       "    </tr>\n",
       "  </tbody>\n",
       "</table>\n",
       "<p>1 rows × 40 columns</p>\n",
       "</div>"
      ],
      "text/plain": [
       "   rad_sum__20180101  rad_sum__20180201  rad_sum__20180301  rad_sum__20180401  \\\n",
       "0       28130.781996       27184.385777       27483.034286       29311.177311   \n",
       "\n",
       "   rad_sum__20180501  rad_sum__20180601  rad_sum__20180701  rad_sum__20180801  \\\n",
       "0        2805.793487        8173.382541       24591.406972         26336.7996   \n",
       "\n",
       "   rad_sum__20180901  rad_sum__20181001  ...  rad_sum__20200701  \\\n",
       "0       24976.751477       21914.102358  ...       22042.146003   \n",
       "\n",
       "   rad_sum__20200801  rad_sum__20200901  rad_sum__20201001  rad_sum__20201101  \\\n",
       "0       26066.274293       10270.127467       33924.938353         12551.1328   \n",
       "\n",
       "   rad_sum__20201201  rad_sum__20210101  rad_sum__20210201  rad_sum__20210301  \\\n",
       "0       30809.919995       31659.853562        31586.14736       32451.749174   \n",
       "\n",
       "   rad_sum__20210501  \n",
       "0       21881.611714  \n",
       "\n",
       "[1 rows x 40 columns]"
      ]
     },
     "execution_count": 75,
     "metadata": {},
     "output_type": "execute_result"
    }
   ],
   "source": [
    "df"
   ]
  },
  {
   "cell_type": "code",
   "execution_count": 76,
   "id": "short-ireland",
   "metadata": {},
   "outputs": [],
   "source": [
    "df.reset_index(inplace=True)"
   ]
  },
  {
   "cell_type": "code",
   "execution_count": 79,
   "id": "prescribed-turtle",
   "metadata": {},
   "outputs": [],
   "source": [
    "df_re = pd.wide_to_long(\n",
    "    df,\n",
    "    stubnames = ['rad_sum'],\n",
    "    i = 'index',\n",
    "    j = 'date',\n",
    "    sep = \"__\"\n",
    ")"
   ]
  },
  {
   "cell_type": "code",
   "execution_count": 81,
   "id": "billion-juice",
   "metadata": {},
   "outputs": [],
   "source": [
    "df_re.reset_index(inplace=True)"
   ]
  },
  {
   "cell_type": "code",
   "execution_count": 82,
   "id": "proprietary-citation",
   "metadata": {},
   "outputs": [],
   "source": [
    "df_re.loc[:,\"date\"] = pd.to_datetime(df_re.date, format=\"%Y%m%d\")"
   ]
  },
  {
   "cell_type": "code",
   "execution_count": 83,
   "id": "confidential-guinea",
   "metadata": {},
   "outputs": [],
   "source": [
    "sns.set()"
   ]
  },
  {
   "cell_type": "code",
   "execution_count": 85,
   "id": "catholic-toddler",
   "metadata": {},
   "outputs": [
    {
     "data": {
      "text/plain": [
       "<AxesSubplot:xlabel='date', ylabel='rad_sum'>"
      ]
     },
     "execution_count": 85,
     "metadata": {},
     "output_type": "execute_result"
    },
    {
     "data": {
      "image/png": "[encoded data removed]",
      "text/plain": [
       "<Figure size 792x432 with 1 Axes>"
      ]
     },
     "metadata": {},
     "output_type": "display_data"
    }
   ],
   "source": [
    "fig, ax = plt.subplots(figsize=(11, 6))\n",
    "sns.lineplot(data=df_re, x=\"date\", y=\"rad_sum\")"
   ]
  },
  {
   "cell_type": "code",
   "execution_count": 87,
   "id": "sacred-representation",
   "metadata": {},
   "outputs": [],
   "source": [
    "zs = ZonalStats(\n",
    "    collection_id='NOAA/VIIRS/DNB/MONTHLY_V1/VCMSLCFG',\n",
    "    target_features=aoi,\n",
    "    statistic_type='mean',\n",
    "    output_name='',\n",
    "    scale=500,\n",
    "    min_threshold=0,\n",
    "    water_mask=False,\n",
    "    start_year=2018,\n",
    "    end_year=2022,\n",
    "    frequency='original',\n",
    "    temporal_stat=None,\n",
    "    band='avg_rad',\n",
    "    output_dir='',\n",
    ")\n",
    "res = zs.runZonalStats()\n",
    "res = res.getInfo()\n",
    "feats = res['features']\n",
    "cols = [list(f['properties'].keys()) for f in feats][0]\n",
    "ids = [f['id'] for f in feats]\n",
    "values = [list(f['properties'].values()) for f in feats]\n",
    "df = pd.DataFrame(index=ids, columns=cols, data=values)\n",
    "def rename_func(col):\n",
    "    p = col.split(\"_\")\n",
    "    new_name = \"rad_mean\"+\"__\"+p[0]\n",
    "    return new_name\n",
    "df.rename(rename_func, axis=1, inplace=True)\n",
    "df.reset_index(inplace=True)\n",
    "df_re2 = pd.wide_to_long(\n",
    "    df,\n",
    "    stubnames = ['rad_mean'],\n",
    "    i = 'index',\n",
    "    j = 'date',\n",
    "    sep = \"__\"\n",
    ")\n",
    "df_re2.reset_index(inplace=True)\n",
    "df_re2.loc[:,\"date\"] = pd.to_datetime(df_re.date, format=\"%Y%m%d\")"
   ]
  },
  {
   "cell_type": "code",
   "execution_count": 91,
   "id": "rapid-valentine",
   "metadata": {},
   "outputs": [
    {
     "data": {
      "text/plain": [
       "<AxesSubplot:xlabel='date', ylabel='rad_mean'>"
      ]
     },
     "execution_count": 91,
     "metadata": {},
     "output_type": "execute_result"
    },
    {
     "data": {
      "image/png": "[encoded data removed]",
      "text/plain": [
       "<Figure size 792x432 with 1 Axes>"
      ]
     },
     "metadata": {},
     "output_type": "display_data"
    }
   ],
   "source": [
    "fig, ax = plt.subplots(figsize=(11, 6))\n",
    "sns.lineplot(data=df_re2, x=\"date\", y=\"rad_mean\")"
   ]
  },
  {
   "cell_type": "code",
   "execution_count": null,
   "id": "negative-building",
   "metadata": {},
   "outputs": [],
   "source": []
  },
  {
   "cell_type": "code",
   "execution_count": 8,
   "id": "younger-merit",
   "metadata": {},
   "outputs": [],
   "source": [
    "viirs_col = ee.ImageCollection(\"NOAA/VIIRS/DNB/MONTHLY_V1/VCMSLCFG\") \\\n",
    "    .select('avg_rad') \\\n",
    "    .filterDate('2020-01-01', \"2021-06-01\")"
   ]
  },
  {
   "cell_type": "code",
   "execution_count": 9,
   "id": "warming-blond",
   "metadata": {},
   "outputs": [],
   "source": [
    "def prepareImage(img):\n",
    "    img_clip = img.clip(aoi)\n",
    "    img_masked = img_clip.mask(img_clip)\n",
    "    return img_masked"
   ]
  },
  {
   "cell_type": "code",
   "execution_count": 10,
   "id": "rational-sword",
   "metadata": {},
   "outputs": [],
   "source": [
    "viirs_col_clip = viirs_col.map(prepareImage)"
   ]
  },
  {
   "cell_type": "code",
   "execution_count": 11,
   "id": "handy-prescription",
   "metadata": {},
   "outputs": [],
   "source": [
    "# def ymList_ee(self):\n",
    "#     '''\n",
    "#     Create list of year/month pairs from a given dataset using EE\n",
    "#     '''\n",
    "#     def iter_func(image, newlist):\n",
    "#         date = image.date().format(\"YYYY-MM\")\n",
    "#         return newlist.append(date)\n",
    "#     ymd = self.iterate(iter_func, [])\n",
    "#     return ymd"
   ]
  },
  {
   "cell_type": "code",
   "execution_count": 12,
   "id": "antique-verse",
   "metadata": {},
   "outputs": [],
   "source": [
    "def ymList_ee(self):\n",
    "    '''\n",
    "    Create list of year/month pairs from a given dataset using EE\n",
    "    '''\n",
    "    def iter_func(image, newlist):\n",
    "        date = ee.String(image.date().format(\"YYYY-MM\"))\n",
    "        newlist = ee.List(newlist);\n",
    "        return ee.List(newlist.add(date).sort())\n",
    "    ymd = self.iterate(iter_func, ee.List([]))\n",
    "    return ee.List(ymd).distinct()"
   ]
  },
  {
   "cell_type": "code",
   "execution_count": 13,
   "id": "fifth-freedom",
   "metadata": {},
   "outputs": [],
   "source": [
    "dates = ymList_ee(viirs_col_clip)"
   ]
  },
  {
   "cell_type": "code",
   "execution_count": 14,
   "id": "worthy-mandate",
   "metadata": {},
   "outputs": [],
   "source": [
    "dates = dates.getInfo()"
   ]
  },
  {
   "cell_type": "code",
   "execution_count": 18,
   "id": "overhead-timer",
   "metadata": {},
   "outputs": [],
   "source": [
    "Map.add_time_slider(viirs_col_clip, vis_params, labels=dates, time_interval=2.628e+6)"
   ]
  },
  {
   "cell_type": "code",
   "execution_count": 19,
   "id": "differential-penny",
   "metadata": {},
   "outputs": [
    {
     "data": {
      "application/vnd.jupyter.widget-view+json": {
       "model_id": "d834fbb4907d41c596990571309a4a79",
       "version_major": 2,
       "version_minor": 0
      },
      "text/plain": [
       "Map(bottom=125532.0, center=[7.993471334318632, 98.33515214624994], controls=(WidgetControl(options=['position…"
      ]
     },
     "metadata": {},
     "output_type": "display_data"
    }
   ],
   "source": [
    "Map"
   ]
  },
  {
   "cell_type": "code",
   "execution_count": 23,
   "id": "political-settle",
   "metadata": {},
   "outputs": [],
   "source": [
    "out = os.path.join(os.getcwd(), \"map_test.html\")"
   ]
  },
  {
   "cell_type": "code",
   "execution_count": 24,
   "id": "affiliated-secretariat",
   "metadata": {},
   "outputs": [],
   "source": [
    "Map.to_html(outfile=out)"
   ]
  },
  {
   "cell_type": "code",
   "execution_count": 22,
   "id": "eight-rouge",
   "metadata": {},
   "outputs": [
    {
     "data": {
      "text/plain": [
       "'C:\\\\Users\\\\wb514197\\\\Repos\\\\Lights_Sandbox\\\\notebooks'"
      ]
     },
     "execution_count": 22,
     "metadata": {},
     "output_type": "execute_result"
    }
   ],
   "source": [
    "os.getcwd()"
   ]
  },
  {
   "cell_type": "code",
   "execution_count": null,
   "id": "raising-stopping",
   "metadata": {},
   "outputs": [],
   "source": []
  },
  {
   "cell_type": "code",
   "execution_count": 20,
   "id": "current-accused",
   "metadata": {},
   "outputs": [],
   "source": [
    "dotenv_path = find_dotenv()\n",
    "load_dotenv(dotenv_path)\n",
    "dp_token = os.environ.get(\"DP_TOKEN\")"
   ]
  },
  {
   "cell_type": "code",
   "execution_count": 23,
   "id": "productive-modern",
   "metadata": {},
   "outputs": [
    {
     "name": "stdout",
     "output_type": "stream",
     "text": [
      "Connected successfully to https://datapane.com as andres64\r\n"
     ]
    },
    {
     "data": {
      "text/plain": [
       "'andres64'"
      ]
     },
     "execution_count": 23,
     "metadata": {},
     "output_type": "execute_result"
    }
   ],
   "source": [
    "dp.login(token=dp_token)"
   ]
  },
  {
   "cell_type": "code",
   "execution_count": 28,
   "id": "modular-undergraduate",
   "metadata": {},
   "outputs": [
    {
     "name": "stdout",
     "output_type": "stream",
     "text": [
      "# packages in environment at C:\\WBG\\Anaconda\\envs\\ee:\n",
      "#\n",
      "# Name                    Version                   Build  Channel\n",
      "geemap                    0.8.18             pyhd8ed1ab_0    conda-forge\n"
     ]
    }
   ],
   "source": [
    "!conda list geemap"
   ]
  },
  {
   "cell_type": "code",
   "execution_count": 25,
   "id": "actual-consciousness",
   "metadata": {},
   "outputs": [],
   "source": [
    "# Map.publish(name='Phuket Night Lights', description='A folium map with Earth Engine data layers', visibility='PUBLIC')"
   ]
  },
  {
   "cell_type": "code",
   "execution_count": null,
   "id": "fantastic-shannon",
   "metadata": {},
   "outputs": [],
   "source": []
  }
 ],
 "metadata": {
  "kernelspec": {
   "display_name": "Earth Engine",
   "language": "python",
   "name": "ee"
  },
  "language_info": {
   "codemirror_mode": {
    "name": "ipython",
    "version": 3
   },
   "file_extension": ".py",
   "mimetype": "text/x-python",
   "name": "python",
   "nbconvert_exporter": "python",
   "pygments_lexer": "ipython3",
   "version": "3.8.8"
  },
  "toc": {
   "base_numbering": 1,
   "nav_menu": {},
   "number_sections": true,
   "sideBar": true,
   "skip_h1_title": false,
   "title_cell": "Table of Contents",
   "title_sidebar": "Contents",
   "toc_cell": false,
   "toc_position": {},
   "toc_section_display": true,
   "toc_window_display": false
  },
  "varInspector": {
   "cols": {
    "lenName": 16,
    "lenType": 16,
    "lenVar": 40
   },
   "kernels_config": {
    "python": {
     "delete_cmd_postfix": "",
     "delete_cmd_prefix": "del ",
     "library": "var_list.py",
     "varRefreshCmd": "print(var_dic_list())"
    },
    "r": {
     "delete_cmd_postfix": ") ",
     "delete_cmd_prefix": "rm(",
     "library": "var_list.r",
     "varRefreshCmd": "cat(var_dic_list()) "
    }
   },
   "types_to_exclude": [
    "module",
    "function",
    "builtin_function_or_method",
    "instance",
    "_Feature"
   ],
   "window_display": false
  }
 },
 "nbformat": 4,
 "nbformat_minor": 5
}
